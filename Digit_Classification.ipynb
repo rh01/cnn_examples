{
 "cells": [
  {
   "cell_type": "code",
   "execution_count": 1,
   "metadata": {
    "collapsed": false,
    "deletable": true,
    "editable": true
   },
   "outputs": [
    {
     "name": "stderr",
     "output_type": "stream",
     "text": [
      "Using TensorFlow backend.\n"
     ]
    }
   ],
   "source": [
    "import numpy as np\n",
    "import pandas as pd\n",
    "from sklearn.model_selection import train_test_split\n",
    "from sklearn.utils import shuffle\n",
    "from sklearn import preprocessing\n",
    "import scipy.io as sio\n",
    "import matplotlib.pyplot as plt\n",
    "\n",
    "import time\n",
    "\n",
    "from keras.layers import Activation, Dense, Dropout, Flatten\n",
    "from keras.layers import Convolution2D, MaxPooling2D\n",
    "from keras.layers.core import Reshape\n",
    "from keras.models import Sequential\n",
    "from keras.optimizers import SGD\n"
   ]
  },
  {
   "cell_type": "markdown",
   "metadata": {
    "deletable": true,
    "editable": true
   },
   "source": [
    "## 将数据导入进来\n",
    "\n",
    "由于数据是`.mat`格式的，因此在这里需要用到`scipy`的数据处理方法。\n",
    "\n",
    "Reference tutorial: https://docs.scipy.org/doc/scipy/reference/generated/scipy.io.loadmat.html and https://docs.scipy.org/doc/scipy/reference/tutorial/io.html"
   ]
  },
  {
   "cell_type": "code",
   "execution_count": 2,
   "metadata": {
    "collapsed": false,
    "deletable": true,
    "editable": true
   },
   "outputs": [],
   "source": [
    "mat = sio.loadmat('data200.mat')"
   ]
  },
  {
   "cell_type": "code",
   "execution_count": 3,
   "metadata": {
    "collapsed": false,
    "deletable": true,
    "editable": true
   },
   "outputs": [
    {
     "data": {
      "text/plain": [
       "{'__globals__': [],\n",
       " '__header__': b'MATLAB 5.0 MAT-file, Platform: PCWIN, Created on: Mon Apr 21 17:00:33 2014',\n",
       " '__version__': '1.0',\n",
       " 'source': array([[0, 0, 0, ..., 0, 0, 0],\n",
       "        [1, 1, 0, ..., 0, 0, 0],\n",
       "        [1, 1, 0, ..., 0, 0, 0],\n",
       "        ..., \n",
       "        [1, 1, 0, ..., 0, 0, 1],\n",
       "        [1, 1, 0, ..., 0, 0, 1],\n",
       "        [0, 0, 0, ..., 0, 0, 1]], dtype=uint8),\n",
       " 'target': array([[1, 1, 1, ..., 0, 0, 0],\n",
       "        [0, 0, 0, ..., 0, 0, 0],\n",
       "        [0, 0, 0, ..., 0, 0, 0],\n",
       "        ..., \n",
       "        [0, 0, 0, ..., 0, 0, 0],\n",
       "        [0, 0, 0, ..., 0, 0, 0],\n",
       "        [0, 0, 0, ..., 1, 1, 1]], dtype=uint8)}"
      ]
     },
     "execution_count": 3,
     "metadata": {},
     "output_type": "execute_result"
    }
   ],
   "source": [
    "mat"
   ]
  },
  {
   "cell_type": "code",
   "execution_count": 4,
   "metadata": {
    "collapsed": false,
    "deletable": true,
    "editable": true
   },
   "outputs": [
    {
     "name": "stdout",
     "output_type": "stream",
     "text": [
      "[[0 0 0 ..., 0 0 0]\n",
      " [1 1 0 ..., 0 0 0]\n",
      " [1 1 0 ..., 0 0 0]\n",
      " ..., \n",
      " [1 1 0 ..., 0 0 1]\n",
      " [1 1 0 ..., 0 0 1]\n",
      " [0 0 0 ..., 0 0 1]]\n",
      "****************************************************************************************************\n",
      "The shape of Source data is (1024,12400)\n",
      "****************************************************************************************************\n"
     ]
    }
   ],
   "source": [
    "data = mat['source']\n",
    "print(data)\n",
    "print(\"*\"*100)\n",
    "print(\"The shape of Source data is (%s,%s)\" % data.shape)\n",
    "print(\"*\"*100)"
   ]
  },
  {
   "cell_type": "code",
   "execution_count": 5,
   "metadata": {
    "collapsed": false,
    "deletable": true,
    "editable": true
   },
   "outputs": [
    {
     "name": "stdout",
     "output_type": "stream",
     "text": [
      "[[1 1 1 ..., 0 0 0]\n",
      " [0 0 0 ..., 0 0 0]\n",
      " [0 0 0 ..., 0 0 0]\n",
      " ..., \n",
      " [0 0 0 ..., 0 0 0]\n",
      " [0 0 0 ..., 0 0 0]\n",
      " [0 0 0 ..., 1 1 1]]\n",
      "****************************************************************************************************\n",
      "The shape of Label is (62,12400)\n",
      "****************************************************************************************************\n"
     ]
    }
   ],
   "source": [
    "labels = mat['target']\n",
    "print(labels)\n",
    "print(\"*\"*100)\n",
    "print(\"The shape of Label is (%s,%s)\" % labels.shape)\n",
    "print(\"*\"*100)"
   ]
  },
  {
   "cell_type": "markdown",
   "metadata": {
    "deletable": true,
    "editable": true
   },
   "source": [
    "## 继续对数据进行处理\n",
    "\n",
    "由于我们需要的数据维度分别是`data->(12400, 1024)`和`labels->(12400, 62)`，因此需要将数据进行转置操作。"
   ]
  },
  {
   "cell_type": "code",
   "execution_count": 6,
   "metadata": {
    "collapsed": true,
    "deletable": true,
    "editable": true
   },
   "outputs": [],
   "source": [
    "# transfer matrix to numpy array\n",
    "data = np.array(data.transpose())\n",
    "labels = np.array(labels.transpose())"
   ]
  },
  {
   "cell_type": "code",
   "execution_count": 7,
   "metadata": {
    "collapsed": false,
    "deletable": true,
    "editable": true
   },
   "outputs": [
    {
     "name": "stdout",
     "output_type": "stream",
     "text": [
      "(12400, 1024)\n",
      "(12400, 62)\n"
     ]
    }
   ],
   "source": [
    "print(data.shape)\n",
    "print(labels.shape)"
   ]
  },
  {
   "cell_type": "code",
   "execution_count": 8,
   "metadata": {
    "collapsed": true,
    "deletable": true,
    "editable": true
   },
   "outputs": [],
   "source": [
    "X_train, X_test, y_train, y_test = train_test_split(data, labels, test_size=0.20)\n"
   ]
  },
  {
   "cell_type": "code",
   "execution_count": 9,
   "metadata": {
    "collapsed": false,
    "deletable": true,
    "editable": true
   },
   "outputs": [
    {
     "name": "stdout",
     "output_type": "stream",
     "text": [
      "(9920, 1024)\n",
      "(2480, 1024)\n",
      "(9920, 62)\n",
      "(2480, 62)\n"
     ]
    }
   ],
   "source": [
    "print (X_train.shape)\n",
    "print (X_test.shape)\n",
    "print (y_train.shape)\n",
    "print (y_test.shape)"
   ]
  },
  {
   "cell_type": "markdown",
   "metadata": {
    "deletable": true,
    "editable": true
   },
   "source": [
    "## 如果使用CNN来做分类，则需要继续下一步的数据处理"
   ]
  },
  {
   "cell_type": "code",
   "execution_count": 10,
   "metadata": {
    "collapsed": false,
    "deletable": true,
    "editable": true
   },
   "outputs": [
    {
     "name": "stdout",
     "output_type": "stream",
     "text": [
      "(12400, 62)\n",
      "(12400, 32, 32, 1)\n"
     ]
    }
   ],
   "source": [
    "# cnn_label = np.array([label for label in tqdm(labels)], dtype=np.float64)\n",
    "# cnn_data = np.array([c_data for c_data in tqdm(data)], dtype=np.float64)\n",
    "image_array = np.reshape(data, (len(data), 32, 32, 1))\n",
    "print(labels.shape)\n",
    "print(image_array.shape)"
   ]
  },
  {
   "cell_type": "code",
   "execution_count": 11,
   "metadata": {
    "collapsed": true,
    "deletable": true,
    "editable": true
   },
   "outputs": [],
   "source": [
    "X_train, X_test, y_train, y_test = train_test_split(image_array, labels, test_size=0.20)\n"
   ]
  },
  {
   "cell_type": "code",
   "execution_count": 10,
   "metadata": {
    "collapsed": false,
    "deletable": true,
    "editable": true
   },
   "outputs": [
    {
     "name": "stdout",
     "output_type": "stream",
     "text": [
      "(9920, 32, 32, 1)\n",
      "(2480, 32, 32, 1)\n",
      "(9920, 62)\n",
      "(2480, 62)\n"
     ]
    }
   ],
   "source": [
    "print (X_train.shape)\n",
    "print (X_test.shape)\n",
    "print (y_train.shape)\n",
    "print (y_test.shape)"
   ]
  },
  {
   "cell_type": "code",
   "execution_count": 16,
   "metadata": {
    "collapsed": false,
    "deletable": true,
    "editable": true
   },
   "outputs": [
    {
     "data": {
      "image/png": "[encoded data removed]",
      "text/plain": [
       "<matplotlib.figure.Figure at 0x2b4da753fd0>"
      ]
     },
     "metadata": {},
     "output_type": "display_data"
    }
   ],
   "source": [
    "image = data[300,:]\n",
    "# print image\n",
    "image = np.reshape(image, (32, 32))\n",
    "\n",
    "plt.imshow(image)\n",
    "plt.show()"
   ]
  },
  {
   "cell_type": "code",
   "execution_count": null,
   "metadata": {
    "collapsed": true,
    "deletable": true,
    "editable": true
   },
   "outputs": [],
   "source": []
  },
  {
   "cell_type": "code",
   "execution_count": 17,
   "metadata": {
    "collapsed": false,
    "deletable": true,
    "editable": true
   },
   "outputs": [
    {
     "name": "stdout",
     "output_type": "stream",
     "text": [
      "Training...\n",
      "____________________________________________________________________________________________________\n",
      "Layer (type)                     Output Shape          Param #     Connected to                     \n",
      "====================================================================================================\n",
      "convolution2d_1 (Convolution2D)  (None, 32, 32, 32)    320         convolution2d_input_1[0][0]      \n",
      "____________________________________________________________________________________________________\n",
      "activation_1 (Activation)        (None, 32, 32, 32)    0           convolution2d_1[0][0]            \n",
      "____________________________________________________________________________________________________\n",
      "maxpooling2d_1 (MaxPooling2D)    (None, 16, 16, 32)    0           activation_1[0][0]               \n",
      "____________________________________________________________________________________________________\n",
      "convolution2d_2 (Convolution2D)  (None, 14, 14, 64)    18496       maxpooling2d_1[0][0]             \n",
      "____________________________________________________________________________________________________\n",
      "activation_2 (Activation)        (None, 14, 14, 64)    0           convolution2d_2[0][0]            \n",
      "____________________________________________________________________________________________________\n",
      "maxpooling2d_2 (MaxPooling2D)    (None, 7, 7, 64)      0           activation_2[0][0]               \n",
      "____________________________________________________________________________________________________\n",
      "flatten_1 (Flatten)              (None, 3136)          0           maxpooling2d_2[0][0]             \n",
      "____________________________________________________________________________________________________\n",
      "dense_1 (Dense)                  (None, 30)            94110       flatten_1[0][0]                  \n",
      "____________________________________________________________________________________________________\n",
      "dropout_1 (Dropout)              (None, 30)            0           dense_1[0][0]                    \n",
      "____________________________________________________________________________________________________\n",
      "activation_3 (Activation)        (None, 30)            0           dropout_1[0][0]                  \n",
      "____________________________________________________________________________________________________\n",
      "dense_2 (Dense)                  (None, 62)            1922        activation_3[0][0]               \n",
      "____________________________________________________________________________________________________\n",
      "activation_4 (Activation)        (None, 62)            0           dense_2[0][0]                    \n",
      "====================================================================================================\n",
      "Total params: 114,848\n",
      "Trainable params: 114,848\n",
      "Non-trainable params: 0\n",
      "____________________________________________________________________________________________________\n"
     ]
    }
   ],
   "source": [
    "model = Sequential()\n",
    "\n",
    "\n",
    "\n",
    "print( 'Training...')\n",
    "\n",
    "# CONVOLUTION\n",
    "\n",
    "# When using THEANO backend\n",
    "# model.add(Reshape((1, 120, 320), input_shape=(120, 320)))\n",
    "\n",
    "# # When using TENSORFLOW backend\n",
    "# model.add(Reshape((120, 320, 1), input_shape=(120, 320)))\n",
    "\n",
    "model.add(Convolution2D(32, 3, 3, border_mode='same', input_shape=(32 ,32, 1)))\n",
    "model.add(Activation('relu'))\n",
    "model.add(MaxPooling2D(pool_size=(2, 2)))\n",
    "\n",
    "# model.add(Convolution2D(32, 3, 3))\n",
    "# model.add(Activation('relu'))\n",
    "# model.add(MaxPooling2D(pool_size=(2, 2)))\n",
    "\n",
    "model.add(Convolution2D(64, 3, 3))\n",
    "model.add(Activation('relu'))\n",
    "model.add(MaxPooling2D(pool_size=(2, 2)))\n",
    "\n",
    "model.add(Flatten())\n",
    "\n",
    "model.add(Dense(30, init='uniform'))\n",
    "model.add(Dropout(0.2))\n",
    "model.add(Activation('relu'))\n",
    "\n",
    "model.add(Dense(62, init='uniform'))\n",
    "model.add(Activation('softmax'))\n",
    "\n",
    "\n",
    "model.summary()"
   ]
  },
  {
   "cell_type": "code",
   "execution_count": null,
   "metadata": {
    "collapsed": true,
    "deletable": true,
    "editable": true
   },
   "outputs": [],
   "source": [
    "sgd = SGD(lr=0.01, decay=1e-6, momentum=0.9, nesterov=True)\n",
    "model.compile(loss='categorical_crossentropy',\n",
    "              optimizer=sgd,\n",
    "              metrics=['accuracy'])\n",
    "\n",
    "# # train \n",
    "# for step in range(301):\n",
    "#     cost = model.train_on_batch(X_train, y_train)\n",
    "#     if step %  100 ==0:\n",
    "#         print('train cost ', cost)\n",
    "# Fit the model\n",
    "model.fit(X_train, y_train,\n",
    "          nb_epoch=30,\n",
    "          batch_size=50)"
   ]
  },
  {
   "cell_type": "code",
   "execution_count": null,
   "metadata": {
    "collapsed": true,
    "deletable": true,
    "editable": true
   },
   "outputs": [],
   "source": [
    "model.save('cnn.h5')"
   ]
  },
  {
   "cell_type": "markdown",
   "metadata": {
    "deletable": true,
    "editable": true
   },
   "source": [
    "### 加载模型"
   ]
  },
  {
   "cell_type": "code",
   "execution_count": 12,
   "metadata": {
    "collapsed": true,
    "deletable": true,
    "editable": true
   },
   "outputs": [],
   "source": [
    "from keras.models import load_model\n",
    "\n",
    "cnn = load_model('cnn.h5')"
   ]
  },
  {
   "cell_type": "code",
   "execution_count": 13,
   "metadata": {
    "collapsed": false,
    "deletable": true,
    "editable": true
   },
   "outputs": [
    {
     "name": "stdout",
     "output_type": "stream",
     "text": [
      "[0 0 0 ..., 1 1 1]\n",
      "1\n"
     ]
    }
   ],
   "source": [
    "print(data[300,:])\n",
    "print(labels[300].argmax())"
   ]
  },
  {
   "cell_type": "code",
   "execution_count": 14,
   "metadata": {
    "collapsed": false,
    "deletable": true,
    "editable": true
   },
   "outputs": [
    {
     "data": {
      "image/png": "[encoded data removed]",
      "text/plain": [
       "<matplotlib.figure.Figure at 0x2ca70ca85f8>"
      ]
     },
     "metadata": {},
     "output_type": "display_data"
    },
    {
     "name": "stdout",
     "output_type": "stream",
     "text": [
      "30\n"
     ]
    }
   ],
   "source": [
    "image = X_train[300,:]\n",
    "label = y_train[300]\n",
    "# print image\n",
    "image = np.reshape(image, (32, 32))\n",
    "\n",
    "plt.imshow(image)\n",
    "plt.show()\n",
    "print(label.argmax())"
   ]
  },
  {
   "cell_type": "code",
   "execution_count": 20,
   "metadata": {
    "collapsed": false,
    "deletable": true,
    "editable": true
   },
   "outputs": [
    {
     "name": "stdout",
     "output_type": "stream",
     "text": [
      "[[  8.11576655e-08   3.91493782e-11   1.60749693e-14   4.35068592e-10\n",
      "    6.91537709e-16   2.76456404e-07   4.02228528e-04   6.26252661e-10\n",
      "    8.11539794e-11   6.88183177e-10   4.37216835e-16   1.40937022e-08\n",
      "    7.17251074e-13   7.16749854e-11   2.24178712e-06   3.44582624e-03\n",
      "    1.09994707e-08   1.94118588e-08   3.31351941e-08   9.80393322e-18\n",
      "    1.22963976e-13   1.67161772e-15   8.30786855e-14   5.25584685e-16\n",
      "    1.88771457e-10   4.74638141e-11   1.97307601e-15   1.95729891e-12\n",
      "    3.05100459e-11   1.13513217e-07   1.73328284e-13   1.11368215e-11\n",
      "    4.61692906e-11   8.22132577e-18   2.02242045e-09   5.56958646e-12\n",
      "    5.90947690e-12   7.60661715e-05   1.76411881e-08   1.09833887e-12\n",
      "    7.52136384e-06   9.96065080e-01   5.64792346e-09   4.09595188e-12\n",
      "    1.16555277e-09   2.20708783e-14   1.16039201e-11   7.18315221e-08\n",
      "    1.83925751e-14   9.62694703e-15   9.33621069e-10   3.79032539e-09\n",
      "    2.50701904e-10   2.17169699e-07   6.07349067e-12   7.24819529e-08\n",
      "    1.05454742e-19   5.00278291e-12   1.76287145e-11   5.03636237e-18\n",
      "    5.47028436e-16   2.61961758e-10]]\n"
     ]
    }
   ],
   "source": [
    "image2 = X_train[1,:]\n",
    "label2 = y_train[1]\n",
    "# print image\n",
    "image2 = np.reshape(image2, (1, 32, 32, 1))\n",
    "print(cnn.predict(image2))\n",
    "\n"
   ]
  },
  {
   "cell_type": "code",
   "execution_count": 17,
   "metadata": {
    "collapsed": false,
    "deletable": true,
    "editable": true
   },
   "outputs": [
    {
     "data": {
      "image/png": "[encoded data removed]",
      "text/plain": [
       "<matplotlib.figure.Figure at 0x2cae24195f8>"
      ]
     },
     "metadata": {},
     "output_type": "display_data"
    }
   ],
   "source": [
    "image2 = X_train[1,:]\n",
    "image2 = np.reshape(image2, (32, 32))\n",
    "plt.imshow(image2)\n",
    "plt.show()"
   ]
  },
  {
   "cell_type": "code",
   "execution_count": null,
   "metadata": {
    "collapsed": true,
    "deletable": true,
    "editable": true
   },
   "outputs": [],
   "source": []
  }
 ],
 "metadata": {
  "kernelspec": {
   "display_name": "Python 3",
   "language": "python",
   "name": "python3"
  },
  "language_info": {
   "codemirror_mode": {
    "name": "ipython",
    "version": 3
   },
   "file_extension": ".py",
   "mimetype": "text/x-python",
   "name": "python",
   "nbconvert_exporter": "python",
   "pygments_lexer": "ipython3",
   "version": "3.5.2"
  }
 },
 "nbformat": 4,
 "nbformat_minor": 2
}
